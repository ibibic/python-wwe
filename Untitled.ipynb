{
 "cells": [
  {
   "cell_type": "code",
   "execution_count": 26,
   "id": "1cec4b1b",
   "metadata": {},
   "outputs": [
    {
     "name": "stdout",
     "output_type": "stream",
     "text": [
      "Vince McMahon\n",
      "Stephanie McMahon\n",
      "Triple H\n"
     ]
    }
   ],
   "source": [
    "from bs4 import BeautifulSoup\n",
    "import requests\n",
    "\n",
    "wiki_url = 'https://en.wikipedia.org/wiki/List_of_WWE_personnel'\n",
    "response = requests.get(wiki_url)\n",
    "soup = BeautifulSoup(response.content, 'html.parser')\n",
    "tb = soup.find('table', class_='wikitable sortable')\n",
    "\n",
    "\n",
    "\n",
    "for link in tb.find_all('span', class_='fn'): \n",
    "    name = link.find('a')\n",
    "    if(name==None):\n",
    "        continue\n",
    "    print(name.get_text('title'))"
   ]
  },
  {
   "cell_type": "code",
   "execution_count": 36,
   "id": "30442e8b",
   "metadata": {},
   "outputs": [],
   "source": [
    "from bs4 import BeautifulSoup\n",
    "import requests\n",
    "\n",
    "wiki_url = 'https://en.wikipedia.org/wiki/List_of_WWE_personnel'\n",
    "response = requests.get(wiki_url)\n",
    "soup = BeautifulSoup(response.content, 'html.parser')\n",
    "tb = soup.find_all('table', class_='wikitable sortable')\n",
    "\n",
    "for table in tb:\n",
    "    for link in table.find_all('span', class_='fn'): \n",
    "        name = link.find('a')\n",
    "        if(name==None):\n",
    "            continue\n",
    "        title = name.get_text('title')\n",
    "        my_file = open(f\"{title}.py\", 'w')\n",
    "\n",
    "\n"
   ]
  },
  {
   "cell_type": "code",
   "execution_count": null,
   "id": "f81e1995",
   "metadata": {},
   "outputs": [],
   "source": []
  }
 ],
 "metadata": {
  "kernelspec": {
   "display_name": "Python 3 (ipykernel)",
   "language": "python",
   "name": "python3"
  },
  "language_info": {
   "codemirror_mode": {
    "name": "ipython",
    "version": 3
   },
   "file_extension": ".py",
   "mimetype": "text/x-python",
   "name": "python",
   "nbconvert_exporter": "python",
   "pygments_lexer": "ipython3",
   "version": "3.9.12"
  }
 },
 "nbformat": 4,
 "nbformat_minor": 5
}
